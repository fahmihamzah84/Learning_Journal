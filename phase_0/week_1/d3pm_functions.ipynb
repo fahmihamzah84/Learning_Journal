{
 "cells": [
  {
   "cell_type": "markdown",
   "metadata": {},
   "source": [
    "#FUNCTION"
   ]
  },
  {
   "cell_type": "code",
   "execution_count": null,
   "metadata": {},
   "outputs": [],
   "source": [
    "def halo():\n",
    "    print('Hello, world!')\n",
    "\n"
   ]
  },
  {
   "cell_type": "code",
   "execution_count": 5,
   "metadata": {},
   "outputs": [
    {
     "name": "stdout",
     "output_type": "stream",
     "text": [
      "3.0\n"
     ]
    }
   ],
   "source": [
    "def luas_segitiga(alas, tinggi):\n",
    "    print(1/2 * alas * tinggi)\n",
    "\n",
    "luas_segitiga(2, 3)"
   ]
  },
  {
   "cell_type": "code",
   "execution_count": 3,
   "metadata": {},
   "outputs": [
    {
     "data": {
      "text/plain": [
       "6.0"
      ]
     },
     "execution_count": 3,
     "metadata": {},
     "output_type": "execute_result"
    }
   ],
   "source": [
    "def luas_segitiga(alas, tinggi):\n",
    "    return(1/2 * alas * tinggi)\n",
    "\n",
    "luas_segitiga(2, 3) + 3"
   ]
  },
  {
   "cell_type": "code",
   "execution_count": 16,
   "metadata": {},
   "outputs": [
    {
     "name": "stdout",
     "output_type": "stream",
     "text": [
      "12\n"
     ]
    }
   ],
   "source": [
    "def keliling_persegi_panjang(panjang, lebar):\n",
    "    keliling = ((2 * panjang) + (2*lebar) )\n",
    "    return keliling\n",
    "\n",
    "print(keliling(4,2))"
   ]
  },
  {
   "cell_type": "markdown",
   "metadata": {},
   "source": [
    "### ARGS"
   ]
  },
  {
   "cell_type": "code",
   "execution_count": 21,
   "metadata": {},
   "outputs": [
    {
     "name": "stdout",
     "output_type": "stream",
     "text": [
      "Saya berasal dari Tangerang\n"
     ]
    }
   ],
   "source": [
    "def my_cities(*kota):\n",
    "    print(\"Saya berasal dari \" + kota[1])\n",
    "\n",
    "my_cities(\"Bandung\", \"Tangerang\", \"Jakarta\")"
   ]
  },
  {
   "cell_type": "markdown",
   "metadata": {},
   "source": [
    "### KWARGS"
   ]
  },
  {
   "cell_type": "code",
   "execution_count": 24,
   "metadata": {},
   "outputs": [
    {
     "name": "stdout",
     "output_type": "stream",
     "text": [
      "Saya berasal dari Bandung\n"
     ]
    }
   ],
   "source": [
    "def my_cities(**kota):\n",
    "    print(\"Saya berasal dari \" + kota['kota1'])\n",
    "\n",
    "my_cities(kota1 = \"Bandung\", kota2=\"Tangerang\", kota3=\"Jakarta\")"
   ]
  },
  {
   "cell_type": "markdown",
   "metadata": {},
   "source": [
    "### DEFAULT PARAMETER"
   ]
  },
  {
   "cell_type": "code",
   "execution_count": 27,
   "metadata": {},
   "outputs": [
    {
     "name": "stdout",
     "output_type": "stream",
     "text": [
      "Saya berasal dari Kuningan\n"
     ]
    }
   ],
   "source": [
    "def my_cities(city = 'Bandung'):\n",
    "    print(\"Saya berasal dari \" + city)\n",
    "\n",
    "my_cities(city=\"Kuningan\")"
   ]
  },
  {
   "cell_type": "markdown",
   "metadata": {},
   "source": [
    "### GLOBAL VARIABLES"
   ]
  },
  {
   "cell_type": "code",
   "execution_count": 35,
   "metadata": {},
   "outputs": [
    {
     "name": "stdout",
     "output_type": "stream",
     "text": [
      "Kota yang bagus\n",
      "Kota yang Luar biasa!\n"
     ]
    }
   ],
   "source": [
    "x = 'Luar biasa!'\n",
    "\n",
    "def my_cities():\n",
    "    x = 'bagus'\n",
    "    print('Kota yang', x)\n",
    "\n",
    "my_cities()\n",
    "print('Kota yang', x)"
   ]
  },
  {
   "cell_type": "code",
   "execution_count": 37,
   "metadata": {},
   "outputs": [
    {
     "name": "stdout",
     "output_type": "stream",
     "text": [
      "Temperature in celcius (C) = (89.6, -253.14999999999998)\n"
     ]
    }
   ],
   "source": [
    "def convert(fahr, kelv):\n",
    "    cels = fahr* 1.80 + 32\n",
    "    cels2 = kelv - 273.15\n",
    "    return cels,  cels2\n",
    "print(\"Temperature in celcius (C) =\", convert(32, 20))"
   ]
  },
  {
   "cell_type": "code",
   "execution_count": 39,
   "metadata": {},
   "outputs": [
    {
     "name": "stdout",
     "output_type": "stream",
     "text": [
      "[72, -250.92777777777775, 22.22222222222222]\n"
     ]
    }
   ],
   "source": [
    "def temp_converter(ftemp):\n",
    "    ctemp=(ftemp-32) * (5/9)\n",
    "    ktemp=ctemp - 273.15\n",
    "    return[ftemp, ktemp, ctemp]\n",
    "print(temp_converter(72))"
   ]
  },
  {
   "cell_type": "markdown",
   "metadata": {},
   "source": [
    "### Lambda Function"
   ]
  },
  {
   "cell_type": "code",
   "execution_count": 40,
   "metadata": {},
   "outputs": [
    {
     "data": {
      "text/plain": [
       "25"
      ]
     },
     "execution_count": 40,
     "metadata": {},
     "output_type": "execute_result"
    }
   ],
   "source": [
    "#without lambda\n",
    "\n",
    "def square_sum(x,y):\n",
    "    return (x**2 + y**2)\n",
    "\n",
    "square_sum(3, 4) "
   ]
  },
  {
   "cell_type": "code",
   "execution_count": 44,
   "metadata": {},
   "outputs": [
    {
     "data": {
      "text/plain": [
       "25"
      ]
     },
     "execution_count": 44,
     "metadata": {},
     "output_type": "execute_result"
    }
   ],
   "source": [
    "square_sum1 = lambda x,y : x**2 + y**2\n",
    "square_sum1(3, 4)"
   ]
  },
  {
   "cell_type": "code",
   "execution_count": null,
   "metadata": {},
   "outputs": [],
   "source": []
  }
 ],
 "metadata": {
  "interpreter": {
   "hash": "ff4f85d6e04298634172ac5d8264e7e9b556b95639fe52ebb9425c4d4cba0c9c"
  },
  "kernelspec": {
   "display_name": "Python 3.9.12 ('base')",
   "language": "python",
   "name": "python3"
  },
  "language_info": {
   "codemirror_mode": {
    "name": "ipython",
    "version": 3
   },
   "file_extension": ".py",
   "mimetype": "text/x-python",
   "name": "python",
   "nbconvert_exporter": "python",
   "pygments_lexer": "ipython3",
   "version": "3.9.12"
  },
  "orig_nbformat": 4
 },
 "nbformat": 4,
 "nbformat_minor": 2
}
