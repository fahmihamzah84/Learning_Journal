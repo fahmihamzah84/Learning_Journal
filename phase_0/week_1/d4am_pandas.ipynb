{
 "cells": [
  {
   "cell_type": "code",
   "execution_count": 9,
   "metadata": {},
   "outputs": [],
   "source": [
    "import pandas as pd\n",
    "import numpy as np"
   ]
  },
  {
   "cell_type": "code",
   "execution_count": 10,
   "metadata": {},
   "outputs": [
    {
     "data": {
      "text/plain": [
       "0    a\n",
       "1    b\n",
       "2    c\n",
       "dtype: object"
      ]
     },
     "execution_count": 10,
     "metadata": {},
     "output_type": "execute_result"
    }
   ],
   "source": [
    "pd.Series(['a', 'b', 'c'])"
   ]
  },
  {
   "cell_type": "code",
   "execution_count": 11,
   "metadata": {},
   "outputs": [
    {
     "data": {
      "text/plain": [
       "0     2.3\n",
       "1    34.1\n",
       "2     5.0\n",
       "dtype: float64"
      ]
     },
     "execution_count": 11,
     "metadata": {},
     "output_type": "execute_result"
    }
   ],
   "source": [
    "pd.Series([2.3, 34.1, 5.0])\n"
   ]
  },
  {
   "cell_type": "code",
   "execution_count": 12,
   "metadata": {},
   "outputs": [
    {
     "name": "stdout",
     "output_type": "stream",
     "text": [
      "[5555 7000 1980]\n",
      "RangeIndex(start=0, stop=3, step=1)\n"
     ]
    }
   ],
   "source": [
    "revenues = pd.Series([5555, 7000, 1980])\n",
    "print(revenues.values)\n",
    "print(revenues.index)"
   ]
  },
  {
   "cell_type": "code",
   "execution_count": 15,
   "metadata": {},
   "outputs": [
    {
     "name": "stdout",
     "output_type": "stream",
     "text": [
      "0    5555\n",
      "1    7000\n",
      "2    1980\n",
      "dtype: int64\n"
     ]
    }
   ],
   "source": [
    "print(revenues[0:3:1])"
   ]
  },
  {
   "cell_type": "code",
   "execution_count": 16,
   "metadata": {},
   "outputs": [
    {
     "data": {
      "text/plain": [
       "Bandung     4300\n",
       "Jakarta     8434\n",
       "Kuningan    3342\n",
       "dtype: int64"
      ]
     },
     "execution_count": 16,
     "metadata": {},
     "output_type": "execute_result"
    }
   ],
   "source": [
    "city_revenue = pd.Series([4300, 8434, 3342],\n",
    "                        index=[\"Bandung\", \"Jakarta\", \"Kuningan\"])\n",
    "\n",
    "city_revenue"
   ]
  },
  {
   "cell_type": "code",
   "execution_count": 29,
   "metadata": {},
   "outputs": [],
   "source": [
    "city_employee_count = pd.Series({\"Bandung\": 321,\n",
    "                                \"Jakarta\" : 121})"
   ]
  },
  {
   "cell_type": "code",
   "execution_count": 18,
   "metadata": {},
   "outputs": [
    {
     "data": {
      "text/plain": [
       "array([321, 121, 512], dtype=int64)"
      ]
     },
     "execution_count": 18,
     "metadata": {},
     "output_type": "execute_result"
    }
   ],
   "source": [
    "city_employee_count.values"
   ]
  },
  {
   "cell_type": "code",
   "execution_count": 19,
   "metadata": {},
   "outputs": [
    {
     "data": {
      "text/plain": [
       "Index(['Bandung', 'Jakarta', 'Kuningan'], dtype='object')"
      ]
     },
     "execution_count": 19,
     "metadata": {},
     "output_type": "execute_result"
    }
   ],
   "source": [
    "city_employee_count.index"
   ]
  },
  {
   "cell_type": "code",
   "execution_count": 21,
   "metadata": {},
   "outputs": [
    {
     "data": {
      "text/plain": [
       "True"
      ]
     },
     "execution_count": 21,
     "metadata": {},
     "output_type": "execute_result"
    }
   ],
   "source": [
    "\"Bandung\" in city_employee_count"
   ]
  },
  {
   "cell_type": "code",
   "execution_count": 30,
   "metadata": {},
   "outputs": [],
   "source": [
    "city_data = pd.DataFrame({\n",
    "    \"revenue\" : city_revenue,\n",
    "    \"employee_count\" : city_employee_count\n",
    "})"
   ]
  },
  {
   "cell_type": "code",
   "execution_count": 31,
   "metadata": {},
   "outputs": [
    {
     "data": {
      "text/html": [
       "<div>\n",
       "<style scoped>\n",
       "    .dataframe tbody tr th:only-of-type {\n",
       "        vertical-align: middle;\n",
       "    }\n",
       "\n",
       "    .dataframe tbody tr th {\n",
       "        vertical-align: top;\n",
       "    }\n",
       "\n",
       "    .dataframe thead th {\n",
       "        text-align: right;\n",
       "    }\n",
       "</style>\n",
       "<table border=\"1\" class=\"dataframe\">\n",
       "  <thead>\n",
       "    <tr style=\"text-align: right;\">\n",
       "      <th></th>\n",
       "      <th>revenue</th>\n",
       "      <th>employee_count</th>\n",
       "    </tr>\n",
       "  </thead>\n",
       "  <tbody>\n",
       "    <tr>\n",
       "      <th>Bandung</th>\n",
       "      <td>4300</td>\n",
       "      <td>321.0</td>\n",
       "    </tr>\n",
       "    <tr>\n",
       "      <th>Jakarta</th>\n",
       "      <td>8434</td>\n",
       "      <td>121.0</td>\n",
       "    </tr>\n",
       "    <tr>\n",
       "      <th>Kuningan</th>\n",
       "      <td>3342</td>\n",
       "      <td>NaN</td>\n",
       "    </tr>\n",
       "  </tbody>\n",
       "</table>\n",
       "</div>"
      ],
      "text/plain": [
       "          revenue  employee_count\n",
       "Bandung      4300           321.0\n",
       "Jakarta      8434           121.0\n",
       "Kuningan     3342             NaN"
      ]
     },
     "execution_count": 31,
     "metadata": {},
     "output_type": "execute_result"
    }
   ],
   "source": [
    "city_data"
   ]
  },
  {
   "cell_type": "code",
   "execution_count": 35,
   "metadata": {},
   "outputs": [
    {
     "name": "stdout",
     "output_type": "stream",
     "text": [
      "Index(['Bandung', 'Jakarta', 'Kuningan'], dtype='object')\n",
      "Index(['revenue', 'employee_count'], dtype='object')\n"
     ]
    }
   ],
   "source": [
    "print(city_data.axes[0])\n",
    "print(city_data.axes[1])\n"
   ]
  },
  {
   "cell_type": "code",
   "execution_count": 44,
   "metadata": {},
   "outputs": [
    {
     "data": {
      "text/html": [
       "<div>\n",
       "<style scoped>\n",
       "    .dataframe tbody tr th:only-of-type {\n",
       "        vertical-align: middle;\n",
       "    }\n",
       "\n",
       "    .dataframe tbody tr th {\n",
       "        vertical-align: top;\n",
       "    }\n",
       "\n",
       "    .dataframe thead th {\n",
       "        text-align: right;\n",
       "    }\n",
       "</style>\n",
       "<table border=\"1\" class=\"dataframe\">\n",
       "  <thead>\n",
       "    <tr style=\"text-align: right;\">\n",
       "      <th></th>\n",
       "      <th>revenue</th>\n",
       "      <th>employee_count</th>\n",
       "    </tr>\n",
       "  </thead>\n",
       "  <tbody>\n",
       "    <tr>\n",
       "      <th>Bandung</th>\n",
       "      <td>4300</td>\n",
       "      <td>321.0</td>\n",
       "    </tr>\n",
       "    <tr>\n",
       "      <th>Jakarta</th>\n",
       "      <td>8434</td>\n",
       "      <td>121.0</td>\n",
       "    </tr>\n",
       "  </tbody>\n",
       "</table>\n",
       "</div>"
      ],
      "text/plain": [
       "         revenue  employee_count\n",
       "Bandung     4300           321.0\n",
       "Jakarta     8434           121.0"
      ]
     },
     "execution_count": 44,
     "metadata": {},
     "output_type": "execute_result"
    }
   ],
   "source": [
    "city_data.loc[\"Bandung\" : \"Jakarta\"]"
   ]
  },
  {
   "cell_type": "code",
   "execution_count": 46,
   "metadata": {},
   "outputs": [
    {
     "data": {
      "text/plain": [
       "revenue           4300.0\n",
       "employee_count     321.0\n",
       "Name: Bandung, dtype: float64"
      ]
     },
     "execution_count": 46,
     "metadata": {},
     "output_type": "execute_result"
    }
   ],
   "source": [
    "city_data.iloc[0]"
   ]
  },
  {
   "cell_type": "code",
   "execution_count": 47,
   "metadata": {},
   "outputs": [
    {
     "data": {
      "text/plain": [
       "Bandung     321.0\n",
       "Jakarta     121.0\n",
       "Kuningan      NaN\n",
       "Name: employee_count, dtype: float64"
      ]
     },
     "execution_count": 47,
     "metadata": {},
     "output_type": "execute_result"
    }
   ],
   "source": [
    "city_data.loc[\"Bandung\" : \"Kuningan\", \"employee_count\"]"
   ]
  },
  {
   "cell_type": "code",
   "execution_count": 52,
   "metadata": {},
   "outputs": [],
   "source": [
    "further_city_data = pd.DataFrame(\n",
    "    {\"revenue\": [3232, 6543], \"employee_count\": [2, 2]},\n",
    "    index=[\"Balikpapan\", \"Padang\"]\n",
    ")"
   ]
  },
  {
   "cell_type": "code",
   "execution_count": 54,
   "metadata": {},
   "outputs": [
    {
     "data": {
      "text/html": [
       "<div>\n",
       "<style scoped>\n",
       "    .dataframe tbody tr th:only-of-type {\n",
       "        vertical-align: middle;\n",
       "    }\n",
       "\n",
       "    .dataframe tbody tr th {\n",
       "        vertical-align: top;\n",
       "    }\n",
       "\n",
       "    .dataframe thead th {\n",
       "        text-align: right;\n",
       "    }\n",
       "</style>\n",
       "<table border=\"1\" class=\"dataframe\">\n",
       "  <thead>\n",
       "    <tr style=\"text-align: right;\">\n",
       "      <th></th>\n",
       "      <th>revenue</th>\n",
       "      <th>employee_count</th>\n",
       "    </tr>\n",
       "  </thead>\n",
       "  <tbody>\n",
       "    <tr>\n",
       "      <th>Balikpapan</th>\n",
       "      <td>3232</td>\n",
       "      <td>2</td>\n",
       "    </tr>\n",
       "    <tr>\n",
       "      <th>Padang</th>\n",
       "      <td>6543</td>\n",
       "      <td>2</td>\n",
       "    </tr>\n",
       "  </tbody>\n",
       "</table>\n",
       "</div>"
      ],
      "text/plain": [
       "            revenue  employee_count\n",
       "Balikpapan     3232               2\n",
       "Padang         6543               2"
      ]
     },
     "execution_count": 54,
     "metadata": {},
     "output_type": "execute_result"
    }
   ],
   "source": [
    "further_city_data"
   ]
  },
  {
   "cell_type": "code",
   "execution_count": 65,
   "metadata": {},
   "outputs": [
    {
     "data": {
      "text/html": [
       "<div>\n",
       "<style scoped>\n",
       "    .dataframe tbody tr th:only-of-type {\n",
       "        vertical-align: middle;\n",
       "    }\n",
       "\n",
       "    .dataframe tbody tr th {\n",
       "        vertical-align: top;\n",
       "    }\n",
       "\n",
       "    .dataframe thead th {\n",
       "        text-align: right;\n",
       "    }\n",
       "</style>\n",
       "<table border=\"1\" class=\"dataframe\">\n",
       "  <thead>\n",
       "    <tr style=\"text-align: right;\">\n",
       "      <th></th>\n",
       "      <th>revenue</th>\n",
       "      <th>employee_count</th>\n",
       "    </tr>\n",
       "  </thead>\n",
       "  <tbody>\n",
       "    <tr>\n",
       "      <th>Bandung</th>\n",
       "      <td>4300</td>\n",
       "      <td>321.0</td>\n",
       "    </tr>\n",
       "    <tr>\n",
       "      <th>Jakarta</th>\n",
       "      <td>8434</td>\n",
       "      <td>121.0</td>\n",
       "    </tr>\n",
       "    <tr>\n",
       "      <th>Kuningan</th>\n",
       "      <td>3342</td>\n",
       "      <td>NaN</td>\n",
       "    </tr>\n",
       "  </tbody>\n",
       "</table>\n",
       "</div>"
      ],
      "text/plain": [
       "          revenue  employee_count\n",
       "Bandung      4300           321.0\n",
       "Jakarta      8434           121.0\n",
       "Kuningan     3342             NaN"
      ]
     },
     "execution_count": 65,
     "metadata": {},
     "output_type": "execute_result"
    }
   ],
   "source": [
    "city_data"
   ]
  },
  {
   "cell_type": "code",
   "execution_count": 64,
   "metadata": {},
   "outputs": [
    {
     "data": {
      "text/html": [
       "<div>\n",
       "<style scoped>\n",
       "    .dataframe tbody tr th:only-of-type {\n",
       "        vertical-align: middle;\n",
       "    }\n",
       "\n",
       "    .dataframe tbody tr th {\n",
       "        vertical-align: top;\n",
       "    }\n",
       "\n",
       "    .dataframe thead th {\n",
       "        text-align: right;\n",
       "    }\n",
       "</style>\n",
       "<table border=\"1\" class=\"dataframe\">\n",
       "  <thead>\n",
       "    <tr style=\"text-align: right;\">\n",
       "      <th></th>\n",
       "      <th>revenue</th>\n",
       "      <th>employee_count</th>\n",
       "    </tr>\n",
       "  </thead>\n",
       "  <tbody>\n",
       "    <tr>\n",
       "      <th>Bandung</th>\n",
       "      <td>4300</td>\n",
       "      <td>321.0</td>\n",
       "    </tr>\n",
       "    <tr>\n",
       "      <th>Jakarta</th>\n",
       "      <td>8434</td>\n",
       "      <td>121.0</td>\n",
       "    </tr>\n",
       "    <tr>\n",
       "      <th>Kuningan</th>\n",
       "      <td>3342</td>\n",
       "      <td>NaN</td>\n",
       "    </tr>\n",
       "    <tr>\n",
       "      <th>Balikpapan</th>\n",
       "      <td>3232</td>\n",
       "      <td>2.0</td>\n",
       "    </tr>\n",
       "    <tr>\n",
       "      <th>Padang</th>\n",
       "      <td>6543</td>\n",
       "      <td>2.0</td>\n",
       "    </tr>\n",
       "  </tbody>\n",
       "</table>\n",
       "</div>"
      ],
      "text/plain": [
       "            revenue  employee_count\n",
       "Bandung        4300           321.0\n",
       "Jakarta        8434           121.0\n",
       "Kuningan       3342             NaN\n",
       "Balikpapan     3232             2.0\n",
       "Padang         6543             2.0"
      ]
     },
     "execution_count": 64,
     "metadata": {},
     "output_type": "execute_result"
    }
   ],
   "source": [
    "all_city_data = pd.concat([city_data, further_city_data], sort=False)\n",
    "all_city_data"
   ]
  },
  {
   "cell_type": "code",
   "execution_count": 100,
   "metadata": {},
   "outputs": [],
   "source": [
    "city_province = pd.DataFrame({\n",
    "    \"Provinsi\": [\"Jabar\", \"DKI_Jakarta\",\"Jabar\", \"Kalimantan Timur\", \"Sumatera Selatan\"],\n",
    "    \"capital\": [1, 1, 0, 1, 1]},\n",
    "    index=[\"Bandung\", \"Jakarta\",\"Kuningan\", \"Balikpapan\", \"Padang\"]\n",
    ")"
   ]
  },
  {
   "cell_type": "code",
   "execution_count": 101,
   "metadata": {},
   "outputs": [
    {
     "data": {
      "text/html": [
       "<div>\n",
       "<style scoped>\n",
       "    .dataframe tbody tr th:only-of-type {\n",
       "        vertical-align: middle;\n",
       "    }\n",
       "\n",
       "    .dataframe tbody tr th {\n",
       "        vertical-align: top;\n",
       "    }\n",
       "\n",
       "    .dataframe thead th {\n",
       "        text-align: right;\n",
       "    }\n",
       "</style>\n",
       "<table border=\"1\" class=\"dataframe\">\n",
       "  <thead>\n",
       "    <tr style=\"text-align: right;\">\n",
       "      <th></th>\n",
       "      <th>Provinsi</th>\n",
       "      <th>capital</th>\n",
       "    </tr>\n",
       "  </thead>\n",
       "  <tbody>\n",
       "    <tr>\n",
       "      <th>Bandung</th>\n",
       "      <td>Jabar</td>\n",
       "      <td>1</td>\n",
       "    </tr>\n",
       "    <tr>\n",
       "      <th>Jakarta</th>\n",
       "      <td>DKI_Jakarta</td>\n",
       "      <td>1</td>\n",
       "    </tr>\n",
       "    <tr>\n",
       "      <th>Kuningan</th>\n",
       "      <td>Jabar</td>\n",
       "      <td>0</td>\n",
       "    </tr>\n",
       "    <tr>\n",
       "      <th>Balikpapan</th>\n",
       "      <td>Kalimantan Timur</td>\n",
       "      <td>1</td>\n",
       "    </tr>\n",
       "    <tr>\n",
       "      <th>Padang</th>\n",
       "      <td>Sumatera Selatan</td>\n",
       "      <td>1</td>\n",
       "    </tr>\n",
       "  </tbody>\n",
       "</table>\n",
       "</div>"
      ],
      "text/plain": [
       "                    Provinsi  capital\n",
       "Bandung                Jabar        1\n",
       "Jakarta          DKI_Jakarta        1\n",
       "Kuningan               Jabar        0\n",
       "Balikpapan  Kalimantan Timur        1\n",
       "Padang      Sumatera Selatan        1"
      ]
     },
     "execution_count": 101,
     "metadata": {},
     "output_type": "execute_result"
    }
   ],
   "source": [
    "city_province"
   ]
  },
  {
   "cell_type": "code",
   "execution_count": 102,
   "metadata": {},
   "outputs": [
    {
     "data": {
      "text/html": [
       "<div>\n",
       "<style scoped>\n",
       "    .dataframe tbody tr th:only-of-type {\n",
       "        vertical-align: middle;\n",
       "    }\n",
       "\n",
       "    .dataframe tbody tr th {\n",
       "        vertical-align: top;\n",
       "    }\n",
       "\n",
       "    .dataframe thead th {\n",
       "        text-align: right;\n",
       "    }\n",
       "</style>\n",
       "<table border=\"1\" class=\"dataframe\">\n",
       "  <thead>\n",
       "    <tr style=\"text-align: right;\">\n",
       "      <th></th>\n",
       "      <th>revenue</th>\n",
       "      <th>employee_count</th>\n",
       "      <th>Provinsi</th>\n",
       "      <th>capital</th>\n",
       "    </tr>\n",
       "  </thead>\n",
       "  <tbody>\n",
       "    <tr>\n",
       "      <th>Bandung</th>\n",
       "      <td>4300</td>\n",
       "      <td>321.0</td>\n",
       "      <td>Jabar</td>\n",
       "      <td>1</td>\n",
       "    </tr>\n",
       "    <tr>\n",
       "      <th>Jakarta</th>\n",
       "      <td>8434</td>\n",
       "      <td>121.0</td>\n",
       "      <td>DKI_Jakarta</td>\n",
       "      <td>1</td>\n",
       "    </tr>\n",
       "    <tr>\n",
       "      <th>Kuningan</th>\n",
       "      <td>3342</td>\n",
       "      <td>NaN</td>\n",
       "      <td>Jabar</td>\n",
       "      <td>0</td>\n",
       "    </tr>\n",
       "    <tr>\n",
       "      <th>Balikpapan</th>\n",
       "      <td>3232</td>\n",
       "      <td>2.0</td>\n",
       "      <td>Kalimantan Timur</td>\n",
       "      <td>1</td>\n",
       "    </tr>\n",
       "    <tr>\n",
       "      <th>Padang</th>\n",
       "      <td>6543</td>\n",
       "      <td>2.0</td>\n",
       "      <td>Sumatera Selatan</td>\n",
       "      <td>1</td>\n",
       "    </tr>\n",
       "  </tbody>\n",
       "</table>\n",
       "</div>"
      ],
      "text/plain": [
       "            revenue  employee_count          Provinsi  capital\n",
       "Bandung        4300           321.0             Jabar        1\n",
       "Jakarta        8434           121.0       DKI_Jakarta        1\n",
       "Kuningan       3342             NaN             Jabar        0\n",
       "Balikpapan     3232             2.0  Kalimantan Timur        1\n",
       "Padang         6543             2.0  Sumatera Selatan        1"
      ]
     },
     "execution_count": 102,
     "metadata": {},
     "output_type": "execute_result"
    }
   ],
   "source": [
    "cities = pd.concat([all_city_data, city_province], axis=1, sort=False)\n",
    "cities"
   ]
  },
  {
   "cell_type": "code",
   "execution_count": 129,
   "metadata": {},
   "outputs": [],
   "source": [
    "kota = pd.DataFrame({\n",
    "        \"Populatin_millions\" : [1, 2.4, 0.4],\n",
    "        \"Pulau\" : [\"Jawa\",\"Kalimantan\", \"Sumatera\"]\n",
    "}, index = [\"Jabar\", \"Kalimantan Timur\", \"Sumatera Selatan\"])"
   ]
  },
  {
   "cell_type": "code",
   "execution_count": 130,
   "metadata": {},
   "outputs": [
    {
     "data": {
      "text/html": [
       "<div>\n",
       "<style scoped>\n",
       "    .dataframe tbody tr th:only-of-type {\n",
       "        vertical-align: middle;\n",
       "    }\n",
       "\n",
       "    .dataframe tbody tr th {\n",
       "        vertical-align: top;\n",
       "    }\n",
       "\n",
       "    .dataframe thead th {\n",
       "        text-align: right;\n",
       "    }\n",
       "</style>\n",
       "<table border=\"1\" class=\"dataframe\">\n",
       "  <thead>\n",
       "    <tr style=\"text-align: right;\">\n",
       "      <th></th>\n",
       "      <th>Populatin_millions</th>\n",
       "      <th>Pulau</th>\n",
       "    </tr>\n",
       "  </thead>\n",
       "  <tbody>\n",
       "    <tr>\n",
       "      <th>Jabar</th>\n",
       "      <td>1.0</td>\n",
       "      <td>Jawa</td>\n",
       "    </tr>\n",
       "    <tr>\n",
       "      <th>Kalimantan Timur</th>\n",
       "      <td>2.4</td>\n",
       "      <td>Kalimantan</td>\n",
       "    </tr>\n",
       "    <tr>\n",
       "      <th>Sumatera Selatan</th>\n",
       "      <td>0.4</td>\n",
       "      <td>Sumatera</td>\n",
       "    </tr>\n",
       "  </tbody>\n",
       "</table>\n",
       "</div>"
      ],
      "text/plain": [
       "                  Populatin_millions       Pulau\n",
       "Jabar                            1.0        Jawa\n",
       "Kalimantan Timur                 2.4  Kalimantan\n",
       "Sumatera Selatan                 0.4    Sumatera"
      ]
     },
     "execution_count": 130,
     "metadata": {},
     "output_type": "execute_result"
    }
   ],
   "source": [
    "kota"
   ]
  },
  {
   "cell_type": "code",
   "execution_count": 131,
   "metadata": {},
   "outputs": [
    {
     "data": {
      "text/html": [
       "<div>\n",
       "<style scoped>\n",
       "    .dataframe tbody tr th:only-of-type {\n",
       "        vertical-align: middle;\n",
       "    }\n",
       "\n",
       "    .dataframe tbody tr th {\n",
       "        vertical-align: top;\n",
       "    }\n",
       "\n",
       "    .dataframe thead th {\n",
       "        text-align: right;\n",
       "    }\n",
       "</style>\n",
       "<table border=\"1\" class=\"dataframe\">\n",
       "  <thead>\n",
       "    <tr style=\"text-align: right;\">\n",
       "      <th></th>\n",
       "      <th>revenue</th>\n",
       "      <th>employee_count</th>\n",
       "      <th>Provinsi</th>\n",
       "      <th>capital</th>\n",
       "    </tr>\n",
       "  </thead>\n",
       "  <tbody>\n",
       "    <tr>\n",
       "      <th>Bandung</th>\n",
       "      <td>4300</td>\n",
       "      <td>321.0</td>\n",
       "      <td>Jabar</td>\n",
       "      <td>1</td>\n",
       "    </tr>\n",
       "    <tr>\n",
       "      <th>Jakarta</th>\n",
       "      <td>8434</td>\n",
       "      <td>121.0</td>\n",
       "      <td>DKI_Jakarta</td>\n",
       "      <td>1</td>\n",
       "    </tr>\n",
       "    <tr>\n",
       "      <th>Kuningan</th>\n",
       "      <td>3342</td>\n",
       "      <td>NaN</td>\n",
       "      <td>Jabar</td>\n",
       "      <td>0</td>\n",
       "    </tr>\n",
       "    <tr>\n",
       "      <th>Balikpapan</th>\n",
       "      <td>3232</td>\n",
       "      <td>2.0</td>\n",
       "      <td>Kalimantan Timur</td>\n",
       "      <td>1</td>\n",
       "    </tr>\n",
       "    <tr>\n",
       "      <th>Padang</th>\n",
       "      <td>6543</td>\n",
       "      <td>2.0</td>\n",
       "      <td>Sumatera Selatan</td>\n",
       "      <td>1</td>\n",
       "    </tr>\n",
       "  </tbody>\n",
       "</table>\n",
       "</div>"
      ],
      "text/plain": [
       "            revenue  employee_count          Provinsi  capital\n",
       "Bandung        4300           321.0             Jabar        1\n",
       "Jakarta        8434           121.0       DKI_Jakarta        1\n",
       "Kuningan       3342             NaN             Jabar        0\n",
       "Balikpapan     3232             2.0  Kalimantan Timur        1\n",
       "Padang         6543             2.0  Sumatera Selatan        1"
      ]
     },
     "execution_count": 131,
     "metadata": {},
     "output_type": "execute_result"
    }
   ],
   "source": [
    "cities"
   ]
  },
  {
   "cell_type": "code",
   "execution_count": 132,
   "metadata": {},
   "outputs": [
    {
     "data": {
      "text/html": [
       "<div>\n",
       "<style scoped>\n",
       "    .dataframe tbody tr th:only-of-type {\n",
       "        vertical-align: middle;\n",
       "    }\n",
       "\n",
       "    .dataframe tbody tr th {\n",
       "        vertical-align: top;\n",
       "    }\n",
       "\n",
       "    .dataframe thead th {\n",
       "        text-align: right;\n",
       "    }\n",
       "</style>\n",
       "<table border=\"1\" class=\"dataframe\">\n",
       "  <thead>\n",
       "    <tr style=\"text-align: right;\">\n",
       "      <th></th>\n",
       "      <th>revenue</th>\n",
       "      <th>employee_count</th>\n",
       "      <th>Provinsi</th>\n",
       "      <th>capital</th>\n",
       "      <th>Populatin_millions</th>\n",
       "      <th>Pulau</th>\n",
       "    </tr>\n",
       "  </thead>\n",
       "  <tbody>\n",
       "    <tr>\n",
       "      <th>Bandung</th>\n",
       "      <td>4300</td>\n",
       "      <td>321.0</td>\n",
       "      <td>Jabar</td>\n",
       "      <td>1</td>\n",
       "      <td>1.0</td>\n",
       "      <td>Jawa</td>\n",
       "    </tr>\n",
       "    <tr>\n",
       "      <th>Kuningan</th>\n",
       "      <td>3342</td>\n",
       "      <td>NaN</td>\n",
       "      <td>Jabar</td>\n",
       "      <td>0</td>\n",
       "      <td>1.0</td>\n",
       "      <td>Jawa</td>\n",
       "    </tr>\n",
       "    <tr>\n",
       "      <th>Balikpapan</th>\n",
       "      <td>3232</td>\n",
       "      <td>2.0</td>\n",
       "      <td>Kalimantan Timur</td>\n",
       "      <td>1</td>\n",
       "      <td>2.4</td>\n",
       "      <td>Kalimantan</td>\n",
       "    </tr>\n",
       "    <tr>\n",
       "      <th>Padang</th>\n",
       "      <td>6543</td>\n",
       "      <td>2.0</td>\n",
       "      <td>Sumatera Selatan</td>\n",
       "      <td>1</td>\n",
       "      <td>0.4</td>\n",
       "      <td>Sumatera</td>\n",
       "    </tr>\n",
       "  </tbody>\n",
       "</table>\n",
       "</div>"
      ],
      "text/plain": [
       "            revenue  employee_count          Provinsi  capital  \\\n",
       "Bandung        4300           321.0             Jabar        1   \n",
       "Kuningan       3342             NaN             Jabar        0   \n",
       "Balikpapan     3232             2.0  Kalimantan Timur        1   \n",
       "Padang         6543             2.0  Sumatera Selatan        1   \n",
       "\n",
       "            Populatin_millions       Pulau  \n",
       "Bandung                    1.0        Jawa  \n",
       "Kuningan                   1.0        Jawa  \n",
       "Balikpapan                 2.4  Kalimantan  \n",
       "Padang                     0.4    Sumatera  "
      ]
     },
     "execution_count": 132,
     "metadata": {},
     "output_type": "execute_result"
    }
   ],
   "source": [
    "pd.merge(cities, kota, left_on=\"Provinsi\", right_index=True)\n"
   ]
  },
  {
   "cell_type": "code",
   "execution_count": 133,
   "metadata": {},
   "outputs": [
    {
     "data": {
      "text/html": [
       "<div>\n",
       "<style scoped>\n",
       "    .dataframe tbody tr th:only-of-type {\n",
       "        vertical-align: middle;\n",
       "    }\n",
       "\n",
       "    .dataframe tbody tr th {\n",
       "        vertical-align: top;\n",
       "    }\n",
       "\n",
       "    .dataframe thead th {\n",
       "        text-align: right;\n",
       "    }\n",
       "</style>\n",
       "<table border=\"1\" class=\"dataframe\">\n",
       "  <thead>\n",
       "    <tr style=\"text-align: right;\">\n",
       "      <th></th>\n",
       "      <th>revenue</th>\n",
       "      <th>employee_count</th>\n",
       "      <th>Provinsi</th>\n",
       "      <th>capital</th>\n",
       "      <th>Populatin_millions</th>\n",
       "      <th>Pulau</th>\n",
       "    </tr>\n",
       "  </thead>\n",
       "  <tbody>\n",
       "    <tr>\n",
       "      <th>Bandung</th>\n",
       "      <td>4300</td>\n",
       "      <td>321.0</td>\n",
       "      <td>Jabar</td>\n",
       "      <td>1</td>\n",
       "      <td>1.0</td>\n",
       "      <td>Jawa</td>\n",
       "    </tr>\n",
       "    <tr>\n",
       "      <th>Jakarta</th>\n",
       "      <td>8434</td>\n",
       "      <td>121.0</td>\n",
       "      <td>DKI_Jakarta</td>\n",
       "      <td>1</td>\n",
       "      <td>NaN</td>\n",
       "      <td>NaN</td>\n",
       "    </tr>\n",
       "    <tr>\n",
       "      <th>Kuningan</th>\n",
       "      <td>3342</td>\n",
       "      <td>NaN</td>\n",
       "      <td>Jabar</td>\n",
       "      <td>0</td>\n",
       "      <td>1.0</td>\n",
       "      <td>Jawa</td>\n",
       "    </tr>\n",
       "    <tr>\n",
       "      <th>Balikpapan</th>\n",
       "      <td>3232</td>\n",
       "      <td>2.0</td>\n",
       "      <td>Kalimantan Timur</td>\n",
       "      <td>1</td>\n",
       "      <td>2.4</td>\n",
       "      <td>Kalimantan</td>\n",
       "    </tr>\n",
       "    <tr>\n",
       "      <th>Padang</th>\n",
       "      <td>6543</td>\n",
       "      <td>2.0</td>\n",
       "      <td>Sumatera Selatan</td>\n",
       "      <td>1</td>\n",
       "      <td>0.4</td>\n",
       "      <td>Sumatera</td>\n",
       "    </tr>\n",
       "  </tbody>\n",
       "</table>\n",
       "</div>"
      ],
      "text/plain": [
       "            revenue  employee_count          Provinsi  capital  \\\n",
       "Bandung        4300           321.0             Jabar        1   \n",
       "Jakarta        8434           121.0       DKI_Jakarta        1   \n",
       "Kuningan       3342             NaN             Jabar        0   \n",
       "Balikpapan     3232             2.0  Kalimantan Timur        1   \n",
       "Padang         6543             2.0  Sumatera Selatan        1   \n",
       "\n",
       "            Populatin_millions       Pulau  \n",
       "Bandung                    1.0        Jawa  \n",
       "Jakarta                    NaN         NaN  \n",
       "Kuningan                   1.0        Jawa  \n",
       "Balikpapan                 2.4  Kalimantan  \n",
       "Padang                     0.4    Sumatera  "
      ]
     },
     "execution_count": 133,
     "metadata": {},
     "output_type": "execute_result"
    }
   ],
   "source": [
    "pd.merge(cities, kota, left_on=\"Provinsi\", right_index=True, how=\"left\")\n"
   ]
  },
  {
   "cell_type": "code",
   "execution_count": 58,
   "metadata": {},
   "outputs": [
    {
     "name": "stdout",
     "output_type": "stream",
     "text": [
      "DataFrame...\n",
      "       Product  Opening_Stock  Closing_Stock\n",
      "0     SmartTV            300            200\n",
      "1  ChromeCast            700            500\n",
      "2     Speaker           1200           1000\n",
      "3    Earphone           1500            900\n"
     ]
    }
   ],
   "source": [
    "dataFrame = pd.DataFrame({\"Product\": [\"SmartTV\", \"ChromeCast\", \"Speaker\", \"Earphone\"],\n",
    "                          \"Opening_Stock\": [300, 700, 1200, 1500],\n",
    "                          \"Closing_Stock\": [200, 500, 1000, 900]})\n",
    "print(\"DataFrame...\\n\",dataFrame)\n"
   ]
  },
  {
   "cell_type": "code",
   "execution_count": 60,
   "metadata": {},
   "outputs": [
    {
     "name": "stdout",
     "output_type": "stream",
     "text": [
      " Filtered = \n",
      "     Product  Opening_Stock  Closing_Stock\n",
      "2   Speaker           1200           1000\n",
      "3  Earphone           1500            900\n"
     ]
    }
   ],
   "source": [
    "\n",
    "resValues1 = np.where((dataFrame['Opening_Stock']>700) & (dataFrame['Closing_Stock']<1200))\n",
    "print(\" Filtered = \\n\", dataFrame.loc[resValues1])"
   ]
  },
  {
   "cell_type": "code",
   "execution_count": null,
   "metadata": {},
   "outputs": [],
   "source": []
  }
 ],
 "metadata": {
  "interpreter": {
   "hash": "ff4f85d6e04298634172ac5d8264e7e9b556b95639fe52ebb9425c4d4cba0c9c"
  },
  "kernelspec": {
   "display_name": "Python 3.9.12 ('base')",
   "language": "python",
   "name": "python3"
  },
  "language_info": {
   "codemirror_mode": {
    "name": "ipython",
    "version": 3
   },
   "file_extension": ".py",
   "mimetype": "text/x-python",
   "name": "python",
   "nbconvert_exporter": "python",
   "pygments_lexer": "ipython3",
   "version": "3.9.12"
  },
  "orig_nbformat": 4
 },
 "nbformat": 4,
 "nbformat_minor": 2
}
