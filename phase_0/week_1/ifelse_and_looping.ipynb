{
 "cells": [
  {
   "cell_type": "code",
   "execution_count": 20,
   "metadata": {},
   "outputs": [
    {
     "name": "stdout",
     "output_type": "stream",
     "text": [
      "Nilai diluar rentang\n"
     ]
    }
   ],
   "source": [
    "angka = 101\n",
    "while 0 <= angka <=100:    \n",
    "    if  80 <= angka <= 100:\n",
    "        print('Nilai: A')\n",
    "    elif 70 <= angka < 80:\n",
    "        print('Nilai: B')\n",
    "    elif 60 <= angka < 70:\n",
    "        print('Nilai: C')\n",
    "    elif 40 <= angka < 60:\n",
    "        print('Nilai: D')\n",
    "    else:\n",
    "        print('Nilai: E')\n",
    "else:\n",
    "    print('Nilai diluar rentang')"
   ]
  },
  {
   "cell_type": "code",
   "execution_count": 19,
   "metadata": {},
   "outputs": [
    {
     "name": "stdout",
     "output_type": "stream",
     "text": [
      "Jaya bukan merupakan anggota \"cities\"\n"
     ]
    }
   ],
   "source": [
    "cities = ['Bandung', 'Jakarta', 'Kuningan']\n",
    "\n",
    "city = 'Jaya'\n",
    "if city in cities:\n",
    "    print(f\"{city} adalah anggota \\\"cities\\\"\")\n",
    "else:\n",
    "    print(f\"{city} bukan merupakan anggota \\\"cities\\\"\")"
   ]
  },
  {
   "cell_type": "code",
   "execution_count": 23,
   "metadata": {},
   "outputs": [
    {
     "name": "stdout",
     "output_type": "stream",
     "text": [
      "10 x 1 = 10\n",
      "10 x 2 = 10\n",
      "10 x 3 = 10\n",
      "10 x 4 = 10\n",
      "10 x 5 = 10\n",
      "10 x 6 = 10\n",
      "10 x 7 = 10\n",
      "10 x 8 = 10\n",
      "10 x 9 = 10\n",
      "10 x 10 = 10\n"
     ]
    }
   ],
   "source": [
    "i = 1\n",
    "\n",
    "while i <= 10:\n",
    "    print(f'10 x {i} = {10 * 1}')\n",
    "    i = i + 1"
   ]
  },
  {
   "cell_type": "code",
   "execution_count": 31,
   "metadata": {},
   "outputs": [
    {
     "name": "stdout",
     "output_type": "stream",
     "text": [
      "1 x 1 = 1\n",
      "1 x 2 = 2\n",
      "1 x 3 = 3\n",
      "1 x 4 = 4\n",
      "1 x 5 = 5\n",
      "1 x 6 = 6\n",
      "1 x 7 = 7\n",
      "1 x 8 = 8\n",
      "1 x 9 = 9\n",
      "1 x 10 = 10\n",
      "----------\n",
      "2 x 1 = 2\n",
      "2 x 2 = 4\n",
      "2 x 3 = 6\n",
      "2 x 4 = 8\n",
      "2 x 5 = 10\n",
      "2 x 6 = 12\n",
      "2 x 7 = 14\n",
      "2 x 8 = 16\n",
      "2 x 9 = 18\n",
      "2 x 10 = 20\n",
      "----------\n",
      "3 x 1 = 3\n",
      "3 x 2 = 6\n",
      "3 x 3 = 9\n",
      "3 x 4 = 12\n",
      "3 x 5 = 15\n",
      "3 x 6 = 18\n",
      "3 x 7 = 21\n",
      "3 x 8 = 24\n",
      "3 x 9 = 27\n",
      "3 x 10 = 30\n",
      "----------\n",
      "4 x 1 = 4\n",
      "4 x 2 = 8\n",
      "4 x 3 = 12\n",
      "4 x 4 = 16\n",
      "4 x 5 = 20\n",
      "4 x 6 = 24\n",
      "4 x 7 = 28\n",
      "4 x 8 = 32\n",
      "4 x 9 = 36\n",
      "4 x 10 = 40\n",
      "----------\n",
      "5 x 1 = 5\n",
      "5 x 2 = 10\n",
      "5 x 3 = 15\n",
      "5 x 4 = 20\n",
      "5 x 5 = 25\n",
      "5 x 6 = 30\n",
      "5 x 7 = 35\n",
      "5 x 8 = 40\n",
      "5 x 9 = 45\n",
      "5 x 10 = 50\n",
      "----------\n",
      "6 x 1 = 6\n",
      "6 x 2 = 12\n",
      "6 x 3 = 18\n",
      "6 x 4 = 24\n",
      "6 x 5 = 30\n",
      "6 x 6 = 36\n",
      "6 x 7 = 42\n",
      "6 x 8 = 48\n",
      "6 x 9 = 54\n",
      "6 x 10 = 60\n",
      "----------\n",
      "7 x 1 = 7\n",
      "7 x 2 = 14\n",
      "7 x 3 = 21\n",
      "7 x 4 = 28\n",
      "7 x 5 = 35\n",
      "7 x 6 = 42\n",
      "7 x 7 = 49\n",
      "7 x 8 = 56\n",
      "7 x 9 = 63\n",
      "7 x 10 = 70\n",
      "----------\n",
      "8 x 1 = 8\n",
      "8 x 2 = 16\n",
      "8 x 3 = 24\n",
      "8 x 4 = 32\n",
      "8 x 5 = 40\n",
      "8 x 6 = 48\n",
      "8 x 7 = 56\n",
      "8 x 8 = 64\n",
      "8 x 9 = 72\n",
      "8 x 10 = 80\n",
      "----------\n",
      "9 x 1 = 9\n",
      "9 x 2 = 18\n",
      "9 x 3 = 27\n",
      "9 x 4 = 36\n",
      "9 x 5 = 45\n",
      "9 x 6 = 54\n",
      "9 x 7 = 63\n",
      "9 x 8 = 72\n",
      "9 x 9 = 81\n",
      "9 x 10 = 90\n",
      "----------\n",
      "10 x 1 = 10\n",
      "10 x 2 = 20\n",
      "10 x 3 = 30\n",
      "10 x 4 = 40\n",
      "10 x 5 = 50\n",
      "10 x 6 = 60\n",
      "10 x 7 = 70\n",
      "10 x 8 = 80\n",
      "10 x 9 = 90\n",
      "10 x 10 = 100\n",
      "----------\n"
     ]
    }
   ],
   "source": [
    "i = 1\n",
    "j = 1\n",
    "\n",
    "while i<=10:\n",
    "    while j<=10:\n",
    "        print(f'{i} x {j} = {i*j}')\n",
    "        j = j +1\n",
    "    print('-' * 10)\n",
    "    i = i + 1\n",
    "    j = 1"
   ]
  },
  {
   "cell_type": "code",
   "execution_count": 38,
   "metadata": {},
   "outputs": [
    {
     "name": "stdout",
     "output_type": "stream",
     "text": [
      "nilai i adalah: 1\n",
      "1 x 10 = 10\n",
      "nilai i adalah: 2\n",
      "2 x 10 = 20\n",
      "nilai i adalah: 3\n",
      "3 x 10 = 30\n",
      "nilai i adalah: 4\n",
      "4 x 10 = 40\n",
      "nilai i adalah: 5\n",
      "5 x 10 = 50\n",
      "nilai i adalah: 6\n",
      "6 x 10 = 60\n",
      "nilai i adalah: 7\n",
      "7 x 10 = 70\n",
      "nilai i adalah: 8\n",
      "8 x 10 = 80\n",
      "nilai i adalah: 9\n",
      "9 x 10 = 90\n"
     ]
    }
   ],
   "source": [
    "from random import randint\n",
    "\n",
    "for i in range(1, 10):\n",
    "    print(f'nilai i adalah: {i}')\n",
    "    print(f'{i} x 10 = {i*10}')"
   ]
  },
  {
   "cell_type": "code",
   "execution_count": 39,
   "metadata": {},
   "outputs": [
    {
     "name": "stdout",
     "output_type": "stream",
     "text": [
      "nilai variabel angka adalah: 50\n"
     ]
    }
   ],
   "source": [
    "angka = 50\n",
    "\n",
    "print(f'nilai variabel angka adalah: {angka}')"
   ]
  },
  {
   "cell_type": "code",
   "execution_count": 41,
   "metadata": {},
   "outputs": [
    {
     "name": "stdout",
     "output_type": "stream",
     "text": [
      "['Bandung', 'Jakarta', 'Kuningan'] nilai variabel angka adalah: 50\n"
     ]
    }
   ],
   "source": [
    "print('{} nilai variabel angka adalah: {}'.format(cities, angka))"
   ]
  },
  {
   "cell_type": "code",
   "execution_count": 46,
   "metadata": {},
   "outputs": [
    {
     "name": "stdout",
     "output_type": "stream",
     "text": [
      "Perkalian 1 x 1 = 1\n",
      "Perkalian 1 x 2 = 2\n",
      "Perkalian 1 x 3 = 3\n",
      "Perkalian 1 x 4 = 4\n",
      "Perkalian 1 x 5 = 5\n",
      "Perkalian 1 x 6 = 6\n",
      "Perkalian 1 x 7 = 7\n",
      "Perkalian 1 x 8 = 8\n",
      "Perkalian 1 x 9 = 9\n",
      "Perkalian 1 x 10 = 10\n",
      "----------\n",
      "Perkalian 2 x 1 = 2\n",
      "Perkalian 2 x 2 = 4\n",
      "Perkalian 2 x 3 = 6\n",
      "Perkalian 2 x 4 = 8\n",
      "Perkalian 2 x 5 = 10\n",
      "Perkalian 2 x 6 = 12\n",
      "Perkalian 2 x 7 = 14\n",
      "Perkalian 2 x 8 = 16\n",
      "Perkalian 2 x 9 = 18\n",
      "Perkalian 2 x 10 = 20\n",
      "----------\n",
      "Perkalian 3 x 1 = 3\n",
      "Perkalian 3 x 2 = 6\n",
      "Perkalian 3 x 3 = 9\n",
      "Perkalian 3 x 4 = 12\n",
      "Perkalian 3 x 5 = 15\n",
      "Perkalian 3 x 6 = 18\n",
      "Perkalian 3 x 7 = 21\n",
      "Perkalian 3 x 8 = 24\n",
      "Perkalian 3 x 9 = 27\n",
      "Perkalian 3 x 10 = 30\n",
      "----------\n",
      "Perkalian 4 x 1 = 4\n",
      "Perkalian 4 x 2 = 8\n",
      "Perkalian 4 x 3 = 12\n",
      "Perkalian 4 x 4 = 16\n",
      "Perkalian 4 x 5 = 20\n",
      "Perkalian 4 x 6 = 24\n",
      "Perkalian 4 x 7 = 28\n",
      "Perkalian 4 x 8 = 32\n",
      "Perkalian 4 x 9 = 36\n",
      "Perkalian 4 x 10 = 40\n",
      "----------\n",
      "Perkalian 5 x 1 = 5\n",
      "Perkalian 5 x 2 = 10\n",
      "Perkalian 5 x 3 = 15\n",
      "Perkalian 5 x 4 = 20\n",
      "Perkalian 5 x 5 = 25\n",
      "Perkalian 5 x 6 = 30\n",
      "Perkalian 5 x 7 = 35\n",
      "Perkalian 5 x 8 = 40\n",
      "Perkalian 5 x 9 = 45\n",
      "Perkalian 5 x 10 = 50\n",
      "----------\n",
      "Perkalian 6 x 1 = 6\n",
      "Perkalian 6 x 2 = 12\n",
      "Perkalian 6 x 3 = 18\n",
      "Perkalian 6 x 4 = 24\n",
      "Perkalian 6 x 5 = 30\n",
      "Perkalian 6 x 6 = 36\n",
      "Perkalian 6 x 7 = 42\n",
      "Perkalian 6 x 8 = 48\n",
      "Perkalian 6 x 9 = 54\n",
      "Perkalian 6 x 10 = 60\n",
      "----------\n",
      "Perkalian 7 x 1 = 7\n",
      "Perkalian 7 x 2 = 14\n",
      "Perkalian 7 x 3 = 21\n",
      "Perkalian 7 x 4 = 28\n",
      "Perkalian 7 x 5 = 35\n",
      "Perkalian 7 x 6 = 42\n",
      "Perkalian 7 x 7 = 49\n",
      "Perkalian 7 x 8 = 56\n",
      "Perkalian 7 x 9 = 63\n",
      "Perkalian 7 x 10 = 70\n",
      "----------\n",
      "Perkalian 8 x 1 = 8\n",
      "Perkalian 8 x 2 = 16\n",
      "Perkalian 8 x 3 = 24\n",
      "Perkalian 8 x 4 = 32\n",
      "Perkalian 8 x 5 = 40\n",
      "Perkalian 8 x 6 = 48\n",
      "Perkalian 8 x 7 = 56\n",
      "Perkalian 8 x 8 = 64\n",
      "Perkalian 8 x 9 = 72\n",
      "Perkalian 8 x 10 = 80\n",
      "----------\n",
      "Perkalian 9 x 1 = 9\n",
      "Perkalian 9 x 2 = 18\n",
      "Perkalian 9 x 3 = 27\n",
      "Perkalian 9 x 4 = 36\n",
      "Perkalian 9 x 5 = 45\n",
      "Perkalian 9 x 6 = 54\n",
      "Perkalian 9 x 7 = 63\n",
      "Perkalian 9 x 8 = 72\n",
      "Perkalian 9 x 9 = 81\n",
      "Perkalian 9 x 10 = 90\n",
      "----------\n",
      "Perkalian 10 x 1 = 10\n",
      "Perkalian 10 x 2 = 20\n",
      "Perkalian 10 x 3 = 30\n",
      "Perkalian 10 x 4 = 40\n",
      "Perkalian 10 x 5 = 50\n",
      "Perkalian 10 x 6 = 60\n",
      "Perkalian 10 x 7 = 70\n",
      "Perkalian 10 x 8 = 80\n",
      "Perkalian 10 x 9 = 90\n",
      "Perkalian 10 x 10 = 100\n",
      "----------\n"
     ]
    }
   ],
   "source": [
    "i = 1\n",
    "j = 1\n",
    "\n",
    "for i in range(1,11):\n",
    "    for j in range(1,11):\n",
    "        print(f'Perkalian {i} x {j} = {i*j}')\n",
    "    print('-'*10)"
   ]
  },
  {
   "cell_type": "code",
   "execution_count": 54,
   "metadata": {},
   "outputs": [
    {
     "name": "stdout",
     "output_type": "stream",
     "text": [
      "Bandung\n",
      "Jakarta\n",
      "Kuningan\n"
     ]
    }
   ],
   "source": [
    "i = 0\n",
    "while i < len(cities):\n",
    "    print(cities[i])\n",
    "\n",
    "    i = i + 1"
   ]
  },
  {
   "cell_type": "code",
   "execution_count": 56,
   "metadata": {},
   "outputs": [],
   "source": [
    "diction = {'Abel' : 105,\n",
    "            'Haikal' : 40,\n",
    "            'Fahmi' : 70,\n",
    "            'Ule' : 91,\n",
    "            'Vtak' : 10,\n",
    "            'Mahendra' : 60}\n",
    "\n",
    "grade = {}\n",
    "\n",
    "for nama, nilai in diction.items():\n",
    "    if 0 <= nilai <=100:    \n",
    "        if  80 <= nilai <= 100:\n",
    "            grade[nama] = 'A'\n",
    "        elif 70 <= nilai < 80:\n",
    "            grade[nama] = 'B'\n",
    "        elif 60 <= nilai < 70:\n",
    "            grade[nama] = 'C'\n",
    "        elif 40 <= nilai < 60:\n",
    "            grade[nama] = 'D'\n",
    "        else:\n",
    "            grade[nama] = 'E'\n",
    "    else:\n",
    "        grade[nama] = ('Nilai diluar rentang')\n",
    "    "
   ]
  },
  {
   "cell_type": "code",
   "execution_count": 57,
   "metadata": {},
   "outputs": [
    {
     "data": {
      "text/plain": [
       "{'Abel': 'Nilai diluar rentang',\n",
       " 'Haikal': 'D',\n",
       " 'Fahmi': 'B',\n",
       " 'Ule': 'A',\n",
       " 'Vtak': 'E',\n",
       " 'Mahendra': 'C'}"
      ]
     },
     "execution_count": 57,
     "metadata": {},
     "output_type": "execute_result"
    }
   ],
   "source": [
    "grade"
   ]
  },
  {
   "cell_type": "code",
   "execution_count": null,
   "metadata": {},
   "outputs": [],
   "source": []
  }
 ],
 "metadata": {
  "interpreter": {
   "hash": "cf4ad58e545272999772116fb0ddfc48e9afdb89a421fbbead7a79b07ee82ab6"
  },
  "kernelspec": {
   "display_name": "Python 3.9.9 64-bit (system)",
   "language": "python",
   "name": "python3"
  },
  "language_info": {
   "codemirror_mode": {
    "name": "ipython",
    "version": 3
   },
   "file_extension": ".py",
   "mimetype": "text/x-python",
   "name": "python",
   "nbconvert_exporter": "python",
   "pygments_lexer": "ipython3",
   "version": "3.9.9"
  },
  "orig_nbformat": 4
 },
 "nbformat": 4,
 "nbformat_minor": 2
}
