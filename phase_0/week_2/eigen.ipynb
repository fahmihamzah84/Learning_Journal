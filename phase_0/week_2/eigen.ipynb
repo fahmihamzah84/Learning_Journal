{
 "cells": [
  {
   "cell_type": "code",
   "execution_count": 6,
   "metadata": {},
   "outputs": [],
   "source": [
    "import numpy as np\n",
    "import matplotlib as plt"
   ]
  },
  {
   "cell_type": "code",
   "execution_count": 2,
   "metadata": {},
   "outputs": [],
   "source": [
    "def plot_vector2d(vector2d, origin=[0, 0], **options):\n",
    "    return plt.arrow(origin[0], origin[1], vector2d[0], vector2d[1],\n",
    "              head_width=0.2, head_length=0.3, length_includes_head=True,\n",
    "              **options)"
   ]
  },
  {
   "cell_type": "code",
   "execution_count": 4,
   "metadata": {},
   "outputs": [],
   "source": [
    "T = np.array([[1,0], [0, -1]])"
   ]
  },
  {
   "cell_type": "code",
   "execution_count": 7,
   "metadata": {},
   "outputs": [
    {
     "ename": "AttributeError",
     "evalue": "module 'matplotlib' has no attribute 'arrow'",
     "output_type": "error",
     "traceback": [
      "\u001b[1;31m---------------------------------------------------------------------------\u001b[0m",
      "\u001b[1;31mAttributeError\u001b[0m                            Traceback (most recent call last)",
      "\u001b[1;32mc:\\Users\\Fahmi Hamzah\\Desktop\\Hacktiv8\\learning_journal\\phase_0\\week_2\\eigen.ipynb Cell 4'\u001b[0m in \u001b[0;36m<cell line: 2>\u001b[1;34m()\u001b[0m\n\u001b[0;32m      <a href='vscode-notebook-cell:/c%3A/Users/Fahmi%20Hamzah/Desktop/Hacktiv8/learning_journal/phase_0/week_2/eigen.ipynb#ch0000003?line=0'>1</a>\u001b[0m arr \u001b[39m=\u001b[39m np\u001b[39m.\u001b[39marray([\u001b[39m4\u001b[39m,\u001b[39m2\u001b[39m])\n\u001b[1;32m----> <a href='vscode-notebook-cell:/c%3A/Users/Fahmi%20Hamzah/Desktop/Hacktiv8/learning_journal/phase_0/week_2/eigen.ipynb#ch0000003?line=1'>2</a>\u001b[0m plot_vector2d(arr, color\u001b[39m=\u001b[39;49m\u001b[39m'\u001b[39;49m\u001b[39mr\u001b[39;49m\u001b[39m'\u001b[39;49m)\n\u001b[0;32m      <a href='vscode-notebook-cell:/c%3A/Users/Fahmi%20Hamzah/Desktop/Hacktiv8/learning_journal/phase_0/week_2/eigen.ipynb#ch0000003?line=2'>3</a>\u001b[0m plot_vector2d(T \u001b[39m@\u001b[39m arr, color\u001b[39m=\u001b[39m\u001b[39m'\u001b[39m\u001b[39mg\u001b[39m\u001b[39m'\u001b[39m)\n\u001b[0;32m      <a href='vscode-notebook-cell:/c%3A/Users/Fahmi%20Hamzah/Desktop/Hacktiv8/learning_journal/phase_0/week_2/eigen.ipynb#ch0000003?line=4'>5</a>\u001b[0m plt\u001b[39m.\u001b[39maxis([\u001b[39m0\u001b[39m,\u001b[39m10\u001b[39m,\u001b[39m0\u001b[39m,\u001b[39m10\u001b[39m]) \u001b[39m# rentang axis sumbu x dan y\u001b[39;00m\n",
      "\u001b[1;32mc:\\Users\\Fahmi Hamzah\\Desktop\\Hacktiv8\\learning_journal\\phase_0\\week_2\\eigen.ipynb Cell 2'\u001b[0m in \u001b[0;36mplot_vector2d\u001b[1;34m(vector2d, origin, **options)\u001b[0m\n\u001b[0;32m      <a href='vscode-notebook-cell:/c%3A/Users/Fahmi%20Hamzah/Desktop/Hacktiv8/learning_journal/phase_0/week_2/eigen.ipynb#ch0000001?line=0'>1</a>\u001b[0m \u001b[39mdef\u001b[39;00m \u001b[39mplot_vector2d\u001b[39m(vector2d, origin\u001b[39m=\u001b[39m[\u001b[39m0\u001b[39m, \u001b[39m0\u001b[39m], \u001b[39m*\u001b[39m\u001b[39m*\u001b[39moptions):\n\u001b[1;32m----> <a href='vscode-notebook-cell:/c%3A/Users/Fahmi%20Hamzah/Desktop/Hacktiv8/learning_journal/phase_0/week_2/eigen.ipynb#ch0000001?line=1'>2</a>\u001b[0m     \u001b[39mreturn\u001b[39;00m plt\u001b[39m.\u001b[39;49marrow(origin[\u001b[39m0\u001b[39m], origin[\u001b[39m1\u001b[39m], vector2d[\u001b[39m0\u001b[39m], vector2d[\u001b[39m1\u001b[39m],\n\u001b[0;32m      <a href='vscode-notebook-cell:/c%3A/Users/Fahmi%20Hamzah/Desktop/Hacktiv8/learning_journal/phase_0/week_2/eigen.ipynb#ch0000001?line=2'>3</a>\u001b[0m               head_width\u001b[39m=\u001b[39m\u001b[39m0.2\u001b[39m, head_length\u001b[39m=\u001b[39m\u001b[39m0.3\u001b[39m, length_includes_head\u001b[39m=\u001b[39m\u001b[39mTrue\u001b[39;00m,\n\u001b[0;32m      <a href='vscode-notebook-cell:/c%3A/Users/Fahmi%20Hamzah/Desktop/Hacktiv8/learning_journal/phase_0/week_2/eigen.ipynb#ch0000001?line=3'>4</a>\u001b[0m               \u001b[39m*\u001b[39m\u001b[39m*\u001b[39moptions)\n",
      "File \u001b[1;32mc:\\anaconda3\\lib\\site-packages\\matplotlib\\_api\\__init__.py:222\u001b[0m, in \u001b[0;36mcaching_module_getattr.<locals>.__getattr__\u001b[1;34m(name)\u001b[0m\n\u001b[0;32m    <a href='file:///c%3A/anaconda3/lib/site-packages/matplotlib/_api/__init__.py?line=219'>220</a>\u001b[0m \u001b[39mif\u001b[39;00m name \u001b[39min\u001b[39;00m props:\n\u001b[0;32m    <a href='file:///c%3A/anaconda3/lib/site-packages/matplotlib/_api/__init__.py?line=220'>221</a>\u001b[0m     \u001b[39mreturn\u001b[39;00m props[name]\u001b[39m.\u001b[39m\u001b[39m__get__\u001b[39m(instance)\n\u001b[1;32m--> <a href='file:///c%3A/anaconda3/lib/site-packages/matplotlib/_api/__init__.py?line=221'>222</a>\u001b[0m \u001b[39mraise\u001b[39;00m \u001b[39mAttributeError\u001b[39;00m(\n\u001b[0;32m    <a href='file:///c%3A/anaconda3/lib/site-packages/matplotlib/_api/__init__.py?line=222'>223</a>\u001b[0m     \u001b[39mf\u001b[39m\u001b[39m\"\u001b[39m\u001b[39mmodule \u001b[39m\u001b[39m{\u001b[39;00m\u001b[39mcls\u001b[39m\u001b[39m.\u001b[39m\u001b[39m__module__\u001b[39m\u001b[39m!r}\u001b[39;00m\u001b[39m has no attribute \u001b[39m\u001b[39m{\u001b[39;00mname\u001b[39m!r}\u001b[39;00m\u001b[39m\"\u001b[39m)\n",
      "\u001b[1;31mAttributeError\u001b[0m: module 'matplotlib' has no attribute 'arrow'"
     ]
    }
   ],
   "source": [
    "arr = np.array([4,2])\n",
    "plot_vector2d(arr, color='r')\n",
    "plot_vector2d(T @ arr, color='g')\n",
    "\n",
    "plt.axis([0,10,0,10]) # rentang axis sumbu x dan y\n",
    "plt.grid()\n",
    "plt.show()\n",
    "plot_vector2d(arr, color='r')"
   ]
  },
  {
   "cell_type": "code",
   "execution_count": 9,
   "metadata": {},
   "outputs": [],
   "source": [
    "A = np.array([\n",
    "    [1,2],\n",
    "    [2,4]\n",
    "])"
   ]
  },
  {
   "cell_type": "code",
   "execution_count": 11,
   "metadata": {},
   "outputs": [],
   "source": [
    "eig_val, eig_vec = np.linalg.eig(A)"
   ]
  },
  {
   "cell_type": "code",
   "execution_count": 12,
   "metadata": {},
   "outputs": [
    {
     "data": {
      "text/plain": [
       "array([0., 5.])"
      ]
     },
     "execution_count": 12,
     "metadata": {},
     "output_type": "execute_result"
    }
   ],
   "source": [
    "eig_val"
   ]
  },
  {
   "cell_type": "code",
   "execution_count": 13,
   "metadata": {},
   "outputs": [
    {
     "data": {
      "text/plain": [
       "array([[-0.89442719, -0.4472136 ],\n",
       "       [ 0.4472136 , -0.89442719]])"
      ]
     },
     "execution_count": 13,
     "metadata": {},
     "output_type": "execute_result"
    }
   ],
   "source": [
    "eig_vec"
   ]
  },
  {
   "cell_type": "code",
   "execution_count": 15,
   "metadata": {},
   "outputs": [],
   "source": [
    "v = np.array([1,2]) / np.sqrt(5)"
   ]
  },
  {
   "cell_type": "code",
   "execution_count": 16,
   "metadata": {},
   "outputs": [
    {
     "data": {
      "text/plain": [
       "array([0.4472136 , 0.89442719])"
      ]
     },
     "execution_count": 16,
     "metadata": {},
     "output_type": "execute_result"
    }
   ],
   "source": [
    "# A x = lambda x\n",
    "hasil = A @ v\n",
    "hasil / 5"
   ]
  },
  {
   "cell_type": "code",
   "execution_count": 17,
   "metadata": {},
   "outputs": [
    {
     "data": {
      "text/plain": [
       "array([[0., 0.],\n",
       "       [0., 5.]])"
      ]
     },
     "execution_count": 17,
     "metadata": {},
     "output_type": "execute_result"
    }
   ],
   "source": [
    "np.diag(eig_val)"
   ]
  },
  {
   "cell_type": "code",
   "execution_count": 18,
   "metadata": {},
   "outputs": [
    {
     "data": {
      "text/plain": [
       "array([[-0.89442719,  0.4472136 ],\n",
       "       [-0.4472136 , -0.89442719]])"
      ]
     },
     "execution_count": 18,
     "metadata": {},
     "output_type": "execute_result"
    }
   ],
   "source": [
    "np.linalg.inv(eig_vec)"
   ]
  },
  {
   "cell_type": "code",
   "execution_count": 20,
   "metadata": {},
   "outputs": [
    {
     "data": {
      "text/plain": [
       "array([[1., 2.],\n",
       "       [2., 4.]])"
      ]
     },
     "execution_count": 20,
     "metadata": {},
     "output_type": "execute_result"
    }
   ],
   "source": [
    "reconstruct = eig_vec @ np.diag(eig_val) @ np.linalg.inv(eig_vec)\n",
    "reconstruct"
   ]
  },
  {
   "cell_type": "markdown",
   "metadata": {},
   "source": [
    "Implementasi - Social Media Network"
   ]
  },
  {
   "cell_type": "code",
   "execution_count": 23,
   "metadata": {},
   "outputs": [],
   "source": [
    "N = np.array([[0,1/4,0,1/2,0,0],\n",
    "[0, 0, 0, 0, 0, 0],\n",
    "[1/2, 1/4, 0, 0, 0, 1/2],\n",
    "[1/2, 1/4, 0, 0, 0,  1/2],\n",
    "[0, 1/4, 0, 1/2, 0, 0],\n",
    "[0, 0, 0, 0, 0, 0]\n",
    "])"
   ]
  },
  {
   "cell_type": "code",
   "execution_count": 24,
   "metadata": {},
   "outputs": [
    {
     "data": {
      "text/plain": [
       "array([[0.  , 0.25, 0.  , 0.5 , 0.  , 0.  ],\n",
       "       [0.  , 0.  , 0.  , 0.  , 0.  , 0.  ],\n",
       "       [0.5 , 0.25, 0.  , 0.  , 0.  , 0.5 ],\n",
       "       [0.5 , 0.25, 0.  , 0.  , 0.  , 0.5 ],\n",
       "       [0.  , 0.25, 0.  , 0.5 , 0.  , 0.  ],\n",
       "       [0.  , 0.  , 0.  , 0.  , 0.  , 0.  ]])"
      ]
     },
     "execution_count": 24,
     "metadata": {},
     "output_type": "execute_result"
    }
   ],
   "source": [
    "N"
   ]
  },
  {
   "cell_type": "code",
   "execution_count": 25,
   "metadata": {},
   "outputs": [],
   "source": [
    "eig_val, eig_vec = np.linalg.eig(N)"
   ]
  },
  {
   "cell_type": "code",
   "execution_count": 26,
   "metadata": {},
   "outputs": [
    {
     "data": {
      "text/plain": [
       "array([ 0. ,  0. ,  0.5, -0.5,  0. ,  0. ])"
      ]
     },
     "execution_count": 26,
     "metadata": {},
     "output_type": "execute_result"
    }
   ],
   "source": [
    "eig_val"
   ]
  },
  {
   "cell_type": "code",
   "execution_count": 27,
   "metadata": {},
   "outputs": [
    {
     "data": {
      "text/plain": [
       "array([[ 0.00000000e+000,  0.00000000e+000,  5.00000000e-001,\n",
       "        -5.00000000e-001, -2.16623325e-276, -2.34960985e-276],\n",
       "       [ 0.00000000e+000,  0.00000000e+000,  0.00000000e+000,\n",
       "         0.00000000e+000,  4.33246650e-276,  0.00000000e+000],\n",
       "       [ 0.00000000e+000,  1.00000000e+000,  5.00000000e-001,\n",
       "         5.00000000e-001,  6.00000000e-001,  2.16930458e-001],\n",
       "       [ 0.00000000e+000,  0.00000000e+000,  5.00000000e-001,\n",
       "         5.00000000e-001, -2.16623325e-276,  1.17386593e-291],\n",
       "       [ 1.00000000e+000,  0.00000000e+000,  5.00000000e-001,\n",
       "        -5.00000000e-001, -8.00000000e-001, -9.76187060e-001],\n",
       "       [ 0.00000000e+000,  0.00000000e+000,  0.00000000e+000,\n",
       "         0.00000000e+000,  0.00000000e+000,  2.34960985e-276]])"
      ]
     },
     "execution_count": 27,
     "metadata": {},
     "output_type": "execute_result"
    }
   ],
   "source": [
    "eig_vec"
   ]
  },
  {
   "cell_type": "code",
   "execution_count": 28,
   "metadata": {},
   "outputs": [
    {
     "data": {
      "text/plain": [
       "2"
      ]
     },
     "execution_count": 28,
     "metadata": {},
     "output_type": "execute_result"
    }
   ],
   "source": [
    "np.argmax(eig_val)"
   ]
  },
  {
   "cell_type": "code",
   "execution_count": 35,
   "metadata": {},
   "outputs": [
    {
     "data": {
      "text/plain": [
       "1"
      ]
     },
     "execution_count": 35,
     "metadata": {},
     "output_type": "execute_result"
    }
   ],
   "source": [
    "np.argmax(eig_vec[2])"
   ]
  },
  {
   "cell_type": "markdown",
   "metadata": {},
   "source": [
    "Agen B yang berada di index eigen vector ke-1, merupakan agen dengan ranking terbesar diantara yang lainnya berdasarkan perhitungan page rank eigen."
   ]
  },
  {
   "cell_type": "code",
   "execution_count": null,
   "metadata": {},
   "outputs": [],
   "source": []
  }
 ],
 "metadata": {
  "interpreter": {
   "hash": "ff4f85d6e04298634172ac5d8264e7e9b556b95639fe52ebb9425c4d4cba0c9c"
  },
  "kernelspec": {
   "display_name": "Python 3.9.12 ('base')",
   "language": "python",
   "name": "python3"
  },
  "language_info": {
   "codemirror_mode": {
    "name": "ipython",
    "version": 3
   },
   "file_extension": ".py",
   "mimetype": "text/x-python",
   "name": "python",
   "nbconvert_exporter": "python",
   "pygments_lexer": "ipython3",
   "version": "3.9.12"
  },
  "orig_nbformat": 4
 },
 "nbformat": 4,
 "nbformat_minor": 2
}
